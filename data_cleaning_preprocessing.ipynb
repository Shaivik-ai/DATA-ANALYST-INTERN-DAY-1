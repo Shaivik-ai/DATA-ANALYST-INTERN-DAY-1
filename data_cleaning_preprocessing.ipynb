{
 "cells": [
  {
   "cell_type": "code",
   "execution_count": 1,
   "id": "e729ac1d",
   "metadata": {},
   "outputs": [],
   "source": [
    "import pandas as pd\n",
    "import kagglehub\n",
    "import os\n"
   ]
  },
  {
   "cell_type": "code",
   "execution_count": 2,
   "id": "047c7476",
   "metadata": {},
   "outputs": [
    {
     "name": "stdout",
     "output_type": "stream",
     "text": [
      "Warning: Looks like you're using an outdated `kagglehub` version (installed: 0.3.10), please consider upgrading to the latest version (0.3.11).\n",
      "Path to dataset files: C:\\Users\\SHAIVIK\\.cache\\kagglehub\\datasets\\ronnykym\\online-store-sales-data\\versions\\1\n"
     ]
    }
   ],
   "source": [
    "# Download the dataset from Kaggle\n",
    "path = kagglehub.dataset_download(\"ronnykym/online-store-sales-data\")\n",
    "print(\"Path to dataset files:\", path)\n"
   ]
  },
  {
   "cell_type": "code",
   "execution_count": 6,
   "id": "e3f6b339",
   "metadata": {},
   "outputs": [
    {
     "name": "stdout",
     "output_type": "stream",
     "text": [
      "['Sales-Export_2019-2020.csv']\n"
     ]
    }
   ],
   "source": [
    "# See the list of files\n",
    "print(os.listdir(path))\n"
   ]
  },
  {
   "cell_type": "code",
   "execution_count": 8,
   "id": "342ca713",
   "metadata": {},
   "outputs": [],
   "source": [
    "# Replace the filename if it's different\n",
    "df = pd.read_csv(os.path.join(path, \"Sales-Export_2019-2020.csv\"))"
   ]
  },
  {
   "cell_type": "code",
   "execution_count": 9,
   "id": "2d3d7531",
   "metadata": {},
   "outputs": [
    {
     "name": "stdout",
     "output_type": "stream",
     "text": [
      "    country  order_value_EUR       cost         date  category  \\\n",
      "0    Sweden         17,524.02   14122.61   2/12/2020     Books   \n",
      "1   Finland        116,563.40   92807.78   9/26/2019     Games   \n",
      "2  Portugal        296,465.56  257480.34   7/11/2019  Clothing   \n",
      "3  Portugal         74,532.02   59752.32    4/2/2020    Beauty   \n",
      "4     Spain        178,763.42  146621.76  12/22/2019     Games   \n",
      "\n",
      "       customer_name    sales_manager           sales_rep device_type  \\\n",
      "0    Goldner-Dibbert     Maxie Marrow       Madelon Bront      Mobile   \n",
      "1   Hilll-Vandervort       Hube Corey         Wat Bowkley      Mobile   \n",
      "2     Larkin-Collier  Celine Tumasian  Smitty Culverhouse          PC   \n",
      "3  Hessel-Stiedemann  Celine Tumasian        Aurelie Wren          PC   \n",
      "4     Johns and Sons     Emalia Dinse     Bertha Walbrook      Tablet   \n",
      "\n",
      "     order_id  \n",
      "0  70-0511466  \n",
      "1  28-6585323  \n",
      "2  58-7703341  \n",
      "3  14-6700183  \n",
      "4  15-8765160  \n",
      "<class 'pandas.core.frame.DataFrame'>\n",
      "RangeIndex: 1000 entries, 0 to 999\n",
      "Data columns (total 10 columns):\n",
      " #   Column             Non-Null Count  Dtype  \n",
      "---  ------             --------------  -----  \n",
      " 0   country            1000 non-null   object \n",
      " 1    order_value_EUR   1000 non-null   object \n",
      " 2    cost              1000 non-null   float64\n",
      " 3   date               1000 non-null   object \n",
      " 4   category           1000 non-null   object \n",
      " 5   customer_name      1000 non-null   object \n",
      " 6   sales_manager      1000 non-null   object \n",
      " 7   sales_rep          1000 non-null   object \n",
      " 8   device_type        1000 non-null   object \n",
      " 9   order_id           1000 non-null   object \n",
      "dtypes: float64(1), object(9)\n",
      "memory usage: 78.3+ KB\n",
      "None\n",
      "               cost \n",
      "count    1000.000000\n",
      "mean    94369.310990\n",
      "std     51540.020934\n",
      "min     12113.680000\n",
      "25%     54247.957500\n",
      "50%     87094.760000\n",
      "75%    125570.837500\n",
      "max    304701.430000\n"
     ]
    }
   ],
   "source": [
    "print(df.head())             # View first few rows\n",
    "print(df.info())             # Column types & missing values\n",
    "print(df.describe())         # Stats summary for numeric columns\n"
   ]
  },
  {
   "cell_type": "code",
   "execution_count": 10,
   "id": "9ac895f5",
   "metadata": {},
   "outputs": [],
   "source": [
    "# Clean column names\n",
    "df.columns = df.columns.str.strip().str.lower().str.replace(' ', '_')\n",
    "\n",
    "# Remove commas from order_value_eur and convert to float\n",
    "df['order_value_eur'] = df['order_value_eur'].str.replace(',', '').astype(float)\n",
    "\n",
    "# Ensure cost is numeric\n",
    "df['cost'] = pd.to_numeric(df['cost'], errors='coerce')\n",
    "\n",
    "# Convert date to datetime\n",
    "df['date'] = pd.to_datetime(df['date'], errors='coerce')\n",
    "\n",
    "# Handle missing values\n",
    "df['order_value_eur'].fillna(df['order_value_eur'].mean(), inplace=True)\n",
    "df['cost'].fillna(0, inplace=True)\n",
    "df['country'].fillna('Unknown', inplace=True)\n",
    "df['device_type'].fillna('Unknown', inplace=True)\n",
    "\n",
    "# Remove duplicates\n",
    "df.drop_duplicates(inplace=True)\n",
    "\n",
    "# Reset index\n",
    "df.reset_index(drop=True, inplace=True)\n"
   ]
  },
  {
   "cell_type": "code",
   "execution_count": 11,
   "id": "ac4de449",
   "metadata": {},
   "outputs": [],
   "source": [
    "# Create profit column\n",
    "df['profit'] = df['order_value_eur'] - df['cost']\n"
   ]
  },
  {
   "cell_type": "code",
   "execution_count": 12,
   "id": "e1a2acac",
   "metadata": {},
   "outputs": [
    {
     "name": "stdout",
     "output_type": "stream",
     "text": [
      "    country  order_value_eur       cost       date  category  \\\n",
      "0    Sweden         17524.02   14122.61 2020-02-12     Books   \n",
      "1   Finland        116563.40   92807.78 2019-09-26     Games   \n",
      "2  Portugal        296465.56  257480.34 2019-07-11  Clothing   \n",
      "3  Portugal         74532.02   59752.32 2020-04-02    Beauty   \n",
      "4     Spain        178763.42  146621.76 2019-12-22     Games   \n",
      "\n",
      "       customer_name    sales_manager           sales_rep device_type  \\\n",
      "0    Goldner-Dibbert     Maxie Marrow       Madelon Bront      Mobile   \n",
      "1   Hilll-Vandervort       Hube Corey         Wat Bowkley      Mobile   \n",
      "2     Larkin-Collier  Celine Tumasian  Smitty Culverhouse          PC   \n",
      "3  Hessel-Stiedemann  Celine Tumasian        Aurelie Wren          PC   \n",
      "4     Johns and Sons     Emalia Dinse     Bertha Walbrook      Tablet   \n",
      "\n",
      "     order_id    profit  \n",
      "0  70-0511466   3401.41  \n",
      "1  28-6585323  23755.62  \n",
      "2  58-7703341  38985.22  \n",
      "3  14-6700183  14779.70  \n",
      "4  15-8765160  32141.66  \n"
     ]
    }
   ],
   "source": [
    "# Preview cleaned data\n",
    "print(df.head())\n",
    "\n",
    "# Save cleaned version if needed\n",
    "df.to_csv(\"cleaned_sales_data.csv\", index=False)\n"
   ]
  },
  {
   "cell_type": "code",
   "execution_count": 13,
   "id": "896c24fc",
   "metadata": {},
   "outputs": [],
   "source": [
    "df.to_csv('cleaned_sales.csv', index=False)\n"
   ]
  },
  {
   "cell_type": "code",
   "execution_count": null,
   "id": "efecea25",
   "metadata": {},
   "outputs": [],
   "source": []
  }
 ],
 "metadata": {
  "kernelspec": {
   "display_name": "Python 3 (ipykernel)",
   "language": "python",
   "name": "python3"
  },
  "language_info": {
   "codemirror_mode": {
    "name": "ipython",
    "version": 3
   },
   "file_extension": ".py",
   "mimetype": "text/x-python",
   "name": "python",
   "nbconvert_exporter": "python",
   "pygments_lexer": "ipython3",
   "version": "3.11.3"
  }
 },
 "nbformat": 4,
 "nbformat_minor": 5
}
